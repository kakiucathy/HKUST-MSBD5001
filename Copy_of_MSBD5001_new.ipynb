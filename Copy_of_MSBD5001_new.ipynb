{
  "nbformat": 4,
  "nbformat_minor": 0,
  "metadata": {
    "colab": {
      "name": "Copy of MSBD5001_new",
      "provenance": [],
      "toc_visible": true
    },
    "kernelspec": {
      "name": "python3",
      "display_name": "Python 3"
    }
  },
  "cells": [
    {
      "cell_type": "code",
      "metadata": {
        "id": "VJcerJK3QrdB",
        "colab_type": "code",
        "colab": {}
      },
      "source": [
        "import numpy as np\n",
        "import pandas as pd\n",
        "from math import log\n",
        "from sklearn import model_selection\n",
        "from sklearn.model_selection import train_test_split as split\n",
        "from sklearn.metrics import accuracy_score as accuracy\n",
        "import xgboost as xgb"
      ],
      "execution_count": 0,
      "outputs": []
    },
    {
      "cell_type": "code",
      "metadata": {
        "id": "7peKeJpIRiC_",
        "colab_type": "code",
        "colab": {}
      },
      "source": [
        "dataframe_training = pd.read_csv(\"train.csv\")\n",
        "y_train=dataframe_training['playtime_forever']\n",
        "train_categories=dataframe_training['categories']\n",
        "train_dummies_categories= train_categories.str.get_dummies(\",\")\n",
        "train_genres=dataframe_training['genres']\n",
        "train_dummies_genres= train_genres.str.get_dummies(\",\")\n",
        "dataframe_training=dataframe_training.filter(items=['price','date_difference','total_positive_reviews','total_negative_reviews'])\n",
        "x_train=pd.concat([dataframe_training,train_dummies_genres,train_dummies_categories], axis=1, sort=False)"
      ],
      "execution_count": 0,
      "outputs": []
    },
    {
      "cell_type": "code",
      "metadata": {
        "id": "2wtbnwdogmw_",
        "colab_type": "code",
        "outputId": "b3e3879a-86d6-4add-b707-df42d70be4c5",
        "colab": {
          "base_uri": "https://localhost:8080/",
          "height": 994
        }
      },
      "source": [
        "import statsmodels.api as sm\n",
        "X_1 = sm.add_constant(x_train)\n",
        "model_1= sm.OLS(y_train,X_1).fit()\n",
        "model_1.pvalues\n"
      ],
      "execution_count": 0,
      "outputs": [
        {
          "output_type": "stream",
          "text": [
            "/usr/local/lib/python3.6/dist-packages/numpy/core/fromnumeric.py:2495: FutureWarning: Method .ptp is deprecated and will be removed in a future version. Use numpy.ptp instead.\n",
            "  return ptp(axis=axis, out=out, **kwargs)\n"
          ],
          "name": "stderr"
        },
        {
          "output_type": "execute_result",
          "data": {
            "text/plain": [
              "const                         0.224259\n",
              "price                         0.891242\n",
              "date_difference               0.019039\n",
              "total_positive_reviews        0.004862\n",
              "total_negative_reviews        0.006950\n",
              "Action                        0.116606\n",
              "Adventure                     0.052105\n",
              "Animation & Modeling          0.886724\n",
              "Audio Production              0.973449\n",
              "Casual                        0.496951\n",
              "Design & Illustration         0.844353\n",
              "Early Access                  0.369938\n",
              "Free to Play                  0.571987\n",
              "Gore                          0.631048\n",
              "Indie                         0.737774\n",
              "Massively Multiplayer         0.580081\n",
              "Nudity                        0.890539\n",
              "RPG                           0.166781\n",
              "Racing                        0.711100\n",
              "Sexual Content                0.810507\n",
              "Simulation                    0.793570\n",
              "Sports                        0.730997\n",
              "Strategy                      0.369404\n",
              "Utilities                     0.886724\n",
              "Violent                       0.648117\n",
              "Captions available            0.273892\n",
              "Co-op                         0.049081\n",
              "Commentary available          0.283045\n",
              "Cross-Platform Multiplayer    0.471814\n",
              "Full controller support       0.019952\n",
              "In-App Purchases              0.354890\n",
              "Includes Source SDK           0.575855\n",
              "Includes level editor         0.010464\n",
              "Local Co-op                   0.950650\n",
              "Local Multi-Player            0.186247\n",
              "MMO                           0.537361\n",
              "Multi-player                  0.965404\n",
              "Online Co-op                  0.334335\n",
              "Online Multi-Player           0.925655\n",
              "Partial Controller Support    0.242203\n",
              "Remote Play on Phone          0.340503\n",
              "Remote Play on TV             0.637343\n",
              "Remote Play on Tablet         0.386573\n",
              "Shared/Split Screen           0.243030\n",
              "Single-player                 0.340000\n",
              "Stats                         0.209388\n",
              "Steam Achievements            0.064084\n",
              "Steam Cloud                   0.486278\n",
              "Steam Leaderboards            0.319735\n",
              "Steam Trading Cards           0.330109\n",
              "Steam Workshop                0.000633\n",
              "SteamVR Collectibles          0.921562\n",
              "VR Support                    0.871836\n",
              "Valve Anti-Cheat enabled      0.213306\n",
              "dtype: float64"
            ]
          },
          "metadata": {
            "tags": []
          },
          "execution_count": 835
        }
      ]
    },
    {
      "cell_type": "code",
      "metadata": {
        "id": "PU2M4cVCigRm",
        "colab_type": "code",
        "outputId": "941f0ea7-7106-41f1-9b6a-b6f03fff3069",
        "colab": {
          "base_uri": "https://localhost:8080/",
          "height": 87
        }
      },
      "source": [
        "cols = list(x_train.columns)\n",
        "pmax = 1\n",
        "while (len(cols)>0):\n",
        "    p= []\n",
        "    X_1 = x_train[cols]\n",
        "    X_1 = sm.add_constant(X_1)\n",
        "    model = sm.OLS(y_train,X_1).fit()\n",
        "    p = pd.Series(model.pvalues.values[1:],index = cols)      \n",
        "    pmax = max(p)\n",
        "    feature_with_p_max = p.idxmax()\n",
        "    if(pmax>0.05):\n",
        "        cols.remove(feature_with_p_max)\n",
        "    else:\n",
        "        break\n",
        "selected_features_BE = cols\n",
        "print(selected_features_BE)"
      ],
      "execution_count": 0,
      "outputs": [
        {
          "output_type": "stream",
          "text": [
            "/usr/local/lib/python3.6/dist-packages/numpy/core/fromnumeric.py:2495: FutureWarning: Method .ptp is deprecated and will be removed in a future version. Use numpy.ptp instead.\n",
            "  return ptp(axis=axis, out=out, **kwargs)\n"
          ],
          "name": "stderr"
        },
        {
          "output_type": "stream",
          "text": [
            "['date_difference', 'total_positive_reviews', 'total_negative_reviews', 'Co-op', 'Includes level editor', 'Local Multi-Player', 'Steam Workshop', 'Valve Anti-Cheat enabled']\n"
          ],
          "name": "stdout"
        }
      ]
    },
    {
      "cell_type": "code",
      "metadata": {
        "id": "HP4Z7UVPuE4d",
        "colab_type": "code",
        "colab": {}
      },
      "source": [
        "x_train=x_train.filter(items=['date_difference', 'total_positive_reviews', 'total_negative_reviews', 'Adventure', 'RPG', 'Full controller support', 'Steam Workshop', 'price'])\n",
        "x_train['reviews']=x_train['total_positive_reviews']+x_train['total_negative_reviews']\n",
        "x_train=x_train.filter(items=['date_difference', 'reviews', 'Adventure', 'RPG', 'Full controller support', 'Steam Workshop', 'price'])"
      ],
      "execution_count": 0,
      "outputs": []
    },
    {
      "cell_type": "code",
      "metadata": {
        "id": "_WvqeCDPVuvu",
        "colab_type": "code",
        "colab": {}
      },
      "source": [
        "Xtrain, Xtest, Ytrain, Ytest = split(x_train,y_train, test_size=0.25, random_state=7)"
      ],
      "execution_count": 0,
      "outputs": []
    },
    {
      "cell_type": "code",
      "metadata": {
        "id": "cwgvJIhpWDZd",
        "colab_type": "code",
        "colab": {}
      },
      "source": [
        "from sklearn.ensemble import *\n",
        "AllRegressorModel = [BaggingRegressor]"
      ],
      "execution_count": 0,
      "outputs": []
    },
    {
      "cell_type": "code",
      "metadata": {
        "id": "EGp4cjzSWdg9",
        "colab_type": "code",
        "colab": {}
      },
      "source": [
        "def Model_Selection_By_Cross_Valid():\n",
        "        ThisRound_SelectedModel = None\n",
        "        ThisRound_SelectedModel_Name = None\n",
        "        ThisRound_SelectedModel_Score = None\n",
        "        for temp_select_model_name in AllRegressorModel:\n",
        "            kfold = model_selection.KFold(n_splits=10, random_state=7)\n",
        "            print (kfold)\n",
        "            temp_model= temp_select_model_name()\n",
        "            print(temp_model)\n",
        "            temp_model.fit(Xtrain, Ytrain)\n",
        "            results = model_selection.cross_val_score(temp_model, Xtrain, Ytrain, cv=kfold, scoring='neg_mean_squared_error')\n",
        "        print(temp_select_model_name,results.mean())\n",
        "        if (ThisRound_SelectedModel == None) or (abs(results.mean()) < ThisRound_SelectedModel_Score):\n",
        "            ThisRound_SelectedModel = temp_model\n",
        "            ThisRound_SelectedModel_Name = temp_select_model_name\n",
        "            ThisRound_SelectedModel_Score = abs(results.mean())\n",
        "        print (\"This round Model Name: \", temp_model,\"MSE Score: \",abs(results.mean()))\n",
        "        print (\"This Model Feature Importance\",temp_model.feature_importances_)\n",
        "        print(\"This Model Do No Have Feature Importance......\")\n",
        "        print (\"<----------------------------------->\")\n",
        "        print (\"Selected Model Name:\", ThisRound_SelectedModel, \"MSE Score:\",ThisRound_SelectedModel_Score)\n",
        "        return {\"ModelName\": ThisRound_SelectedModel_Name,\"Model\": ThisRound_SelectedModel}"
      ],
      "execution_count": 0,
      "outputs": []
    },
    {
      "cell_type": "code",
      "metadata": {
        "id": "B96wSJD2ZK6Z",
        "colab_type": "code",
        "outputId": "06f543ba-e7bf-45c6-cab4-18326425673f",
        "colab": {
          "base_uri": "https://localhost:8080/",
          "height": 447
        }
      },
      "source": [
        "SelectedModel = Model_Selection_By_Cross_Valid()\n"
      ],
      "execution_count": 0,
      "outputs": [
        {
          "output_type": "stream",
          "text": [
            "KFold(n_splits=10, random_state=7, shuffle=False)\n",
            "BaggingRegressor(base_estimator=None, bootstrap=True, bootstrap_features=False,\n",
            "                 max_features=1.0, max_samples=1.0, n_estimators=10,\n",
            "                 n_jobs=None, oob_score=False, random_state=None, verbose=0,\n",
            "                 warm_start=False)\n",
            "<class 'sklearn.ensemble.bagging.BaggingRegressor'> -104.2676696174511\n",
            "This round Model Name:  BaggingRegressor(base_estimator=None, bootstrap=True, bootstrap_features=False,\n",
            "                 max_features=1.0, max_samples=1.0, n_estimators=10,\n",
            "                 n_jobs=None, oob_score=False, random_state=None, verbose=0,\n",
            "                 warm_start=False) MSE Score:  104.2676696174511\n"
          ],
          "name": "stdout"
        },
        {
          "output_type": "error",
          "ename": "AttributeError",
          "evalue": "ignored",
          "traceback": [
            "\u001b[0;31m---------------------------------------------------------------------------\u001b[0m",
            "\u001b[0;31mAttributeError\u001b[0m                            Traceback (most recent call last)",
            "\u001b[0;32m<ipython-input-949-3a139bccdb2f>\u001b[0m in \u001b[0;36m<module>\u001b[0;34m()\u001b[0m\n\u001b[0;32m----> 1\u001b[0;31m \u001b[0mSelectedModel\u001b[0m \u001b[0;34m=\u001b[0m \u001b[0mModel_Selection_By_Cross_Valid\u001b[0m\u001b[0;34m(\u001b[0m\u001b[0;34m)\u001b[0m\u001b[0;34m\u001b[0m\u001b[0;34m\u001b[0m\u001b[0m\n\u001b[0m",
            "\u001b[0;32m<ipython-input-923-041a1435e3af>\u001b[0m in \u001b[0;36mModel_Selection_By_Cross_Valid\u001b[0;34m()\u001b[0m\n\u001b[1;32m     16\u001b[0m             \u001b[0mThisRound_SelectedModel_Score\u001b[0m \u001b[0;34m=\u001b[0m \u001b[0mabs\u001b[0m\u001b[0;34m(\u001b[0m\u001b[0mresults\u001b[0m\u001b[0;34m.\u001b[0m\u001b[0mmean\u001b[0m\u001b[0;34m(\u001b[0m\u001b[0;34m)\u001b[0m\u001b[0;34m)\u001b[0m\u001b[0;34m\u001b[0m\u001b[0;34m\u001b[0m\u001b[0m\n\u001b[1;32m     17\u001b[0m         \u001b[0mprint\u001b[0m \u001b[0;34m(\u001b[0m\u001b[0;34m\"This round Model Name: \"\u001b[0m\u001b[0;34m,\u001b[0m \u001b[0mtemp_model\u001b[0m\u001b[0;34m,\u001b[0m\u001b[0;34m\"MSE Score: \"\u001b[0m\u001b[0;34m,\u001b[0m\u001b[0mabs\u001b[0m\u001b[0;34m(\u001b[0m\u001b[0mresults\u001b[0m\u001b[0;34m.\u001b[0m\u001b[0mmean\u001b[0m\u001b[0;34m(\u001b[0m\u001b[0;34m)\u001b[0m\u001b[0;34m)\u001b[0m\u001b[0;34m)\u001b[0m\u001b[0;34m\u001b[0m\u001b[0;34m\u001b[0m\u001b[0m\n\u001b[0;32m---> 18\u001b[0;31m         \u001b[0mprint\u001b[0m \u001b[0;34m(\u001b[0m\u001b[0;34m\"This Model Feature Importance\"\u001b[0m\u001b[0;34m,\u001b[0m\u001b[0mtemp_model\u001b[0m\u001b[0;34m.\u001b[0m\u001b[0mfeature_importances_\u001b[0m\u001b[0;34m)\u001b[0m\u001b[0;34m\u001b[0m\u001b[0;34m\u001b[0m\u001b[0m\n\u001b[0m\u001b[1;32m     19\u001b[0m         \u001b[0mprint\u001b[0m\u001b[0;34m(\u001b[0m\u001b[0;34m\"This Model Do No Have Feature Importance......\"\u001b[0m\u001b[0;34m)\u001b[0m\u001b[0;34m\u001b[0m\u001b[0;34m\u001b[0m\u001b[0m\n\u001b[1;32m     20\u001b[0m         \u001b[0mprint\u001b[0m \u001b[0;34m(\u001b[0m\u001b[0;34m\"<----------------------------------->\"\u001b[0m\u001b[0;34m)\u001b[0m\u001b[0;34m\u001b[0m\u001b[0;34m\u001b[0m\u001b[0m\n",
            "\u001b[0;31mAttributeError\u001b[0m: 'BaggingRegressor' object has no attribute 'feature_importances_'"
          ]
        }
      ]
    },
    {
      "cell_type": "code",
      "metadata": {
        "id": "GU8AXlBE__lk",
        "colab_type": "code",
        "colab": {}
      },
      "source": [
        "predictmodel_new=BaggingRegressor(base_estimator=None, bootstrap=True, bootstrap_features=False,\n",
        "                 max_features=1.0, max_samples=1.0, n_estimators=10,\n",
        "                 n_jobs=None, oob_score=False, random_state=7, verbose=0,\n",
        "                 warm_start=False) "
      ],
      "execution_count": 0,
      "outputs": []
    },
    {
      "cell_type": "code",
      "metadata": {
        "id": "gAgMbhRkAU5e",
        "colab_type": "code",
        "outputId": "31ffdae3-e1be-4b0e-a4a7-03943978f094",
        "colab": {
          "base_uri": "https://localhost:8080/",
          "height": 84
        }
      },
      "source": [
        "predictmodel_new.fit(x_train,y_train)"
      ],
      "execution_count": 0,
      "outputs": [
        {
          "output_type": "execute_result",
          "data": {
            "text/plain": [
              "BaggingRegressor(base_estimator=None, bootstrap=True, bootstrap_features=False,\n",
              "                 max_features=1.0, max_samples=1.0, n_estimators=10,\n",
              "                 n_jobs=None, oob_score=False, random_state=7, verbose=0,\n",
              "                 warm_start=False)"
            ]
          },
          "metadata": {
            "tags": []
          },
          "execution_count": 959
        }
      ]
    },
    {
      "cell_type": "code",
      "metadata": {
        "id": "t9loVqQj3_0X",
        "colab_type": "code",
        "colab": {}
      },
      "source": [
        "y_train_predict=predictmodel_new.predict(x_train)"
      ],
      "execution_count": 0,
      "outputs": []
    },
    {
      "cell_type": "code",
      "metadata": {
        "id": "uBUwh_F54Put",
        "colab_type": "code",
        "outputId": "8ed2ad5e-be44-4d12-afe6-7adc2c53b7a9",
        "colab": {
          "base_uri": "https://localhost:8080/",
          "height": 34
        }
      },
      "source": [
        "from sklearn.metrics import r2_score\n",
        "r2_score(y_train, y_train_predict)"
      ],
      "execution_count": 0,
      "outputs": [
        {
          "output_type": "execute_result",
          "data": {
            "text/plain": [
              "0.8655966995525417"
            ]
          },
          "metadata": {
            "tags": []
          },
          "execution_count": 974
        }
      ]
    },
    {
      "cell_type": "code",
      "metadata": {
        "id": "NxbhujM35O60",
        "colab_type": "code",
        "outputId": "3fbb9131-7ae0-4cf8-c52f-d23672d91161",
        "colab": {
          "base_uri": "https://localhost:8080/",
          "height": 34
        }
      },
      "source": [
        "from sklearn.metrics import mean_absolute_error\n",
        "mean_absolute_error(y_train, y_train_predict)"
      ],
      "execution_count": 0,
      "outputs": [
        {
          "output_type": "execute_result",
          "data": {
            "text/plain": [
              "1.5134827264044817"
            ]
          },
          "metadata": {
            "tags": []
          },
          "execution_count": 975
        }
      ]
    },
    {
      "cell_type": "code",
      "metadata": {
        "id": "I9ECl6Sx5o1K",
        "colab_type": "code",
        "outputId": "5fa38e03-979e-4b2c-8592-3a5cf0c4f797",
        "colab": {
          "base_uri": "https://localhost:8080/",
          "height": 34
        }
      },
      "source": [
        "from sklearn.metrics import mean_squared_error\n",
        "mean_squared_error(y_train, y_train_predict)"
      ],
      "execution_count": 0,
      "outputs": [
        {
          "output_type": "execute_result",
          "data": {
            "text/plain": [
              "16.851719700558817"
            ]
          },
          "metadata": {
            "tags": []
          },
          "execution_count": 976
        }
      ]
    },
    {
      "cell_type": "code",
      "metadata": {
        "id": "qs4r2G-s-vQZ",
        "colab_type": "code",
        "colab": {}
      },
      "source": [
        "dataframe_testing = pd.read_csv(\"test.csv\")\n",
        "test_categories=dataframe_testing['categories']\n",
        "test_dummies_categories= test_categories.str.get_dummies(\",\")\n",
        "test_genres=dataframe_testing['genres']\n",
        "test_dummies_genres= test_genres.str.get_dummies(\",\")\n",
        "dataframe_testing=dataframe_testing.filter(items=['price','date_difference','total_positive_reviews','total_negative_reviews'])\n",
        "x_test=pd.concat([dataframe_testing,test_dummies_genres,test_dummies_categories], axis=1, sort=False)"
      ],
      "execution_count": 0,
      "outputs": []
    },
    {
      "cell_type": "code",
      "metadata": {
        "id": "xkSTdQ06ear3",
        "colab_type": "code",
        "colab": {}
      },
      "source": [
        "x_test=x_test.filter(items=['date_difference', 'total_positive_reviews', 'total_negative_reviews', 'Adventure', 'RPG', 'Full controller support', 'Steam Workshop', 'price'])\n",
        "x_test['reviews']=x_test['total_positive_reviews']+x_test['total_negative_reviews']\n",
        "x_test=x_test.filter(items=['date_difference', 'reviews', 'Adventure', 'RPG', 'Full controller support', 'Steam Workshop', 'price'])"
      ],
      "execution_count": 0,
      "outputs": []
    },
    {
      "cell_type": "code",
      "metadata": {
        "id": "rvDDwt_5dxpY",
        "colab_type": "code",
        "outputId": "dd79eda0-b662-4628-f18d-17d3a226b9cb",
        "colab": {
          "base_uri": "https://localhost:8080/",
          "height": 402
        }
      },
      "source": [
        "x_test=x_test.filter(items=['date_difference','total_positive_reviews', 'total_negative_reviews','Adventure','RPG','Co-op ','Full controller support','Includes level editor ','Steam Workshop','price'])\n",
        "x_test"
      ],
      "execution_count": 0,
      "outputs": [
        {
          "output_type": "execute_result",
          "data": {
            "text/html": [
              "<div>\n",
              "<style scoped>\n",
              "    .dataframe tbody tr th:only-of-type {\n",
              "        vertical-align: middle;\n",
              "    }\n",
              "\n",
              "    .dataframe tbody tr th {\n",
              "        vertical-align: top;\n",
              "    }\n",
              "\n",
              "    .dataframe thead th {\n",
              "        text-align: right;\n",
              "    }\n",
              "</style>\n",
              "<table border=\"1\" class=\"dataframe\">\n",
              "  <thead>\n",
              "    <tr style=\"text-align: right;\">\n",
              "      <th></th>\n",
              "      <th>date_difference</th>\n",
              "      <th>total_positive_reviews</th>\n",
              "      <th>total_negative_reviews</th>\n",
              "      <th>Adventure</th>\n",
              "      <th>RPG</th>\n",
              "      <th>Full controller support</th>\n",
              "      <th>Steam Workshop</th>\n",
              "      <th>price</th>\n",
              "    </tr>\n",
              "  </thead>\n",
              "  <tbody>\n",
              "    <tr>\n",
              "      <th>0</th>\n",
              "      <td>2350.0</td>\n",
              "      <td>2607</td>\n",
              "      <td>1122</td>\n",
              "      <td>1</td>\n",
              "      <td>0</td>\n",
              "      <td>1</td>\n",
              "      <td>0</td>\n",
              "      <td>3500</td>\n",
              "    </tr>\n",
              "    <tr>\n",
              "      <th>1</th>\n",
              "      <td>452.0</td>\n",
              "      <td>5762</td>\n",
              "      <td>2235</td>\n",
              "      <td>1</td>\n",
              "      <td>0</td>\n",
              "      <td>0</td>\n",
              "      <td>0</td>\n",
              "      <td>11600</td>\n",
              "    </tr>\n",
              "    <tr>\n",
              "      <th>2</th>\n",
              "      <td>848.0</td>\n",
              "      <td>687</td>\n",
              "      <td>133</td>\n",
              "      <td>0</td>\n",
              "      <td>0</td>\n",
              "      <td>0</td>\n",
              "      <td>0</td>\n",
              "      <td>2100</td>\n",
              "    </tr>\n",
              "    <tr>\n",
              "      <th>3</th>\n",
              "      <td>3850.0</td>\n",
              "      <td>67</td>\n",
              "      <td>39</td>\n",
              "      <td>0</td>\n",
              "      <td>0</td>\n",
              "      <td>0</td>\n",
              "      <td>0</td>\n",
              "      <td>3600</td>\n",
              "    </tr>\n",
              "    <tr>\n",
              "      <th>4</th>\n",
              "      <td>1282.0</td>\n",
              "      <td>40344</td>\n",
              "      <td>3708</td>\n",
              "      <td>1</td>\n",
              "      <td>0</td>\n",
              "      <td>1</td>\n",
              "      <td>1</td>\n",
              "      <td>3400</td>\n",
              "    </tr>\n",
              "    <tr>\n",
              "      <th>...</th>\n",
              "      <td>...</td>\n",
              "      <td>...</td>\n",
              "      <td>...</td>\n",
              "      <td>...</td>\n",
              "      <td>...</td>\n",
              "      <td>...</td>\n",
              "      <td>...</td>\n",
              "      <td>...</td>\n",
              "    </tr>\n",
              "    <tr>\n",
              "      <th>85</th>\n",
              "      <td>1766.0</td>\n",
              "      <td>9334</td>\n",
              "      <td>516</td>\n",
              "      <td>0</td>\n",
              "      <td>0</td>\n",
              "      <td>1</td>\n",
              "      <td>0</td>\n",
              "      <td>5000</td>\n",
              "    </tr>\n",
              "    <tr>\n",
              "      <th>86</th>\n",
              "      <td>3092.0</td>\n",
              "      <td>1245</td>\n",
              "      <td>176</td>\n",
              "      <td>1</td>\n",
              "      <td>0</td>\n",
              "      <td>0</td>\n",
              "      <td>0</td>\n",
              "      <td>3600</td>\n",
              "    </tr>\n",
              "    <tr>\n",
              "      <th>87</th>\n",
              "      <td>1650.0</td>\n",
              "      <td>33128</td>\n",
              "      <td>6350</td>\n",
              "      <td>0</td>\n",
              "      <td>0</td>\n",
              "      <td>0</td>\n",
              "      <td>1</td>\n",
              "      <td>11200</td>\n",
              "    </tr>\n",
              "    <tr>\n",
              "      <th>88</th>\n",
              "      <td>153.0</td>\n",
              "      <td>5</td>\n",
              "      <td>0</td>\n",
              "      <td>1</td>\n",
              "      <td>1</td>\n",
              "      <td>0</td>\n",
              "      <td>0</td>\n",
              "      <td>0</td>\n",
              "    </tr>\n",
              "    <tr>\n",
              "      <th>89</th>\n",
              "      <td>423.0</td>\n",
              "      <td>17777</td>\n",
              "      <td>2594</td>\n",
              "      <td>0</td>\n",
              "      <td>0</td>\n",
              "      <td>0</td>\n",
              "      <td>0</td>\n",
              "      <td>26800</td>\n",
              "    </tr>\n",
              "  </tbody>\n",
              "</table>\n",
              "<p>90 rows × 8 columns</p>\n",
              "</div>"
            ],
            "text/plain": [
              "    date_difference  total_positive_reviews  ...  Steam Workshop  price\n",
              "0            2350.0                    2607  ...               0   3500\n",
              "1             452.0                    5762  ...               0  11600\n",
              "2             848.0                     687  ...               0   2100\n",
              "3            3850.0                      67  ...               0   3600\n",
              "4            1282.0                   40344  ...               1   3400\n",
              "..              ...                     ...  ...             ...    ...\n",
              "85           1766.0                    9334  ...               0   5000\n",
              "86           3092.0                    1245  ...               0   3600\n",
              "87           1650.0                   33128  ...               1  11200\n",
              "88            153.0                       5  ...               0      0\n",
              "89            423.0                   17777  ...               0  26800\n",
              "\n",
              "[90 rows x 8 columns]"
            ]
          },
          "metadata": {
            "tags": []
          },
          "execution_count": 784
        }
      ]
    },
    {
      "cell_type": "code",
      "metadata": {
        "id": "QZQ3WekZfWWW",
        "colab_type": "code",
        "outputId": "09f27917-06e4-4a84-ac89-988327b8684e",
        "colab": {
          "base_uri": "https://localhost:8080/",
          "height": 402
        }
      },
      "source": [
        "x_test"
      ],
      "execution_count": 0,
      "outputs": [
        {
          "output_type": "execute_result",
          "data": {
            "text/html": [
              "<div>\n",
              "<style scoped>\n",
              "    .dataframe tbody tr th:only-of-type {\n",
              "        vertical-align: middle;\n",
              "    }\n",
              "\n",
              "    .dataframe tbody tr th {\n",
              "        vertical-align: top;\n",
              "    }\n",
              "\n",
              "    .dataframe thead th {\n",
              "        text-align: right;\n",
              "    }\n",
              "</style>\n",
              "<table border=\"1\" class=\"dataframe\">\n",
              "  <thead>\n",
              "    <tr style=\"text-align: right;\">\n",
              "      <th></th>\n",
              "      <th>date_difference</th>\n",
              "      <th>reviews</th>\n",
              "      <th>Adventure</th>\n",
              "      <th>RPG</th>\n",
              "      <th>Full controller support</th>\n",
              "      <th>Steam Workshop</th>\n",
              "      <th>price</th>\n",
              "    </tr>\n",
              "  </thead>\n",
              "  <tbody>\n",
              "    <tr>\n",
              "      <th>0</th>\n",
              "      <td>2350.0</td>\n",
              "      <td>3729</td>\n",
              "      <td>1</td>\n",
              "      <td>0</td>\n",
              "      <td>1</td>\n",
              "      <td>0</td>\n",
              "      <td>3500</td>\n",
              "    </tr>\n",
              "    <tr>\n",
              "      <th>1</th>\n",
              "      <td>452.0</td>\n",
              "      <td>7997</td>\n",
              "      <td>1</td>\n",
              "      <td>0</td>\n",
              "      <td>0</td>\n",
              "      <td>0</td>\n",
              "      <td>11600</td>\n",
              "    </tr>\n",
              "    <tr>\n",
              "      <th>2</th>\n",
              "      <td>848.0</td>\n",
              "      <td>820</td>\n",
              "      <td>0</td>\n",
              "      <td>0</td>\n",
              "      <td>0</td>\n",
              "      <td>0</td>\n",
              "      <td>2100</td>\n",
              "    </tr>\n",
              "    <tr>\n",
              "      <th>3</th>\n",
              "      <td>3850.0</td>\n",
              "      <td>106</td>\n",
              "      <td>0</td>\n",
              "      <td>0</td>\n",
              "      <td>0</td>\n",
              "      <td>0</td>\n",
              "      <td>3600</td>\n",
              "    </tr>\n",
              "    <tr>\n",
              "      <th>4</th>\n",
              "      <td>1282.0</td>\n",
              "      <td>44052</td>\n",
              "      <td>1</td>\n",
              "      <td>0</td>\n",
              "      <td>1</td>\n",
              "      <td>1</td>\n",
              "      <td>3400</td>\n",
              "    </tr>\n",
              "    <tr>\n",
              "      <th>...</th>\n",
              "      <td>...</td>\n",
              "      <td>...</td>\n",
              "      <td>...</td>\n",
              "      <td>...</td>\n",
              "      <td>...</td>\n",
              "      <td>...</td>\n",
              "      <td>...</td>\n",
              "    </tr>\n",
              "    <tr>\n",
              "      <th>85</th>\n",
              "      <td>1766.0</td>\n",
              "      <td>9850</td>\n",
              "      <td>0</td>\n",
              "      <td>0</td>\n",
              "      <td>1</td>\n",
              "      <td>0</td>\n",
              "      <td>5000</td>\n",
              "    </tr>\n",
              "    <tr>\n",
              "      <th>86</th>\n",
              "      <td>3092.0</td>\n",
              "      <td>1421</td>\n",
              "      <td>1</td>\n",
              "      <td>0</td>\n",
              "      <td>0</td>\n",
              "      <td>0</td>\n",
              "      <td>3600</td>\n",
              "    </tr>\n",
              "    <tr>\n",
              "      <th>87</th>\n",
              "      <td>1650.0</td>\n",
              "      <td>39478</td>\n",
              "      <td>0</td>\n",
              "      <td>0</td>\n",
              "      <td>0</td>\n",
              "      <td>1</td>\n",
              "      <td>11200</td>\n",
              "    </tr>\n",
              "    <tr>\n",
              "      <th>88</th>\n",
              "      <td>153.0</td>\n",
              "      <td>5</td>\n",
              "      <td>1</td>\n",
              "      <td>1</td>\n",
              "      <td>0</td>\n",
              "      <td>0</td>\n",
              "      <td>0</td>\n",
              "    </tr>\n",
              "    <tr>\n",
              "      <th>89</th>\n",
              "      <td>423.0</td>\n",
              "      <td>20371</td>\n",
              "      <td>0</td>\n",
              "      <td>0</td>\n",
              "      <td>0</td>\n",
              "      <td>0</td>\n",
              "      <td>26800</td>\n",
              "    </tr>\n",
              "  </tbody>\n",
              "</table>\n",
              "<p>90 rows × 7 columns</p>\n",
              "</div>"
            ],
            "text/plain": [
              "    date_difference  reviews  ...  Steam Workshop  price\n",
              "0            2350.0     3729  ...               0   3500\n",
              "1             452.0     7997  ...               0  11600\n",
              "2             848.0      820  ...               0   2100\n",
              "3            3850.0      106  ...               0   3600\n",
              "4            1282.0    44052  ...               1   3400\n",
              "..              ...      ...  ...             ...    ...\n",
              "85           1766.0     9850  ...               0   5000\n",
              "86           3092.0     1421  ...               0   3600\n",
              "87           1650.0    39478  ...               1  11200\n",
              "88            153.0        5  ...               0      0\n",
              "89            423.0    20371  ...               0  26800\n",
              "\n",
              "[90 rows x 7 columns]"
            ]
          },
          "metadata": {
            "tags": []
          },
          "execution_count": 980
        }
      ]
    },
    {
      "cell_type": "code",
      "metadata": {
        "id": "RV8-zTnK_nfg",
        "colab_type": "code",
        "colab": {}
      },
      "source": [
        "Predicted = predictmodel_new.predict(x_test)"
      ],
      "execution_count": 0,
      "outputs": []
    },
    {
      "cell_type": "code",
      "metadata": {
        "id": "U5RkTUMov7PJ",
        "colab_type": "code",
        "colab": {}
      },
      "source": [
        "Predicted=pd.DataFrame(Predicted)"
      ],
      "execution_count": 0,
      "outputs": []
    },
    {
      "cell_type": "code",
      "metadata": {
        "id": "xQuAlbWaXiDL",
        "colab_type": "code",
        "colab": {}
      },
      "source": [
        "from google.colab import files\n",
        "Predicted.to_csv('Submission_88675.csv') \n",
        "files.download('Submission_88675.csv')"
      ],
      "execution_count": 0,
      "outputs": []
    }
  ]
}