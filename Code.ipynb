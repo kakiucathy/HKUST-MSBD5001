{
  "nbformat": 4,
  "nbformat_minor": 0,
  "metadata": {
    "colab": {
      "name": "Code",
      "provenance": [],
      "toc_visible": true
    },
    "kernelspec": {
      "name": "python3",
      "display_name": "Python 3"
    }
  },
  "cells": [
    {
      "cell_type": "code",
      "metadata": {
        "id": "VJcerJK3QrdB",
        "colab_type": "code",
        "colab": {}
      },
      "source": [
        "#Import Library\n",
        "import numpy as np\n",
        "import pandas as pd\n",
        "from math import log\n",
        "from sklearn import model_selection\n",
        "from sklearn.model_selection import train_test_split as split\n",
        "from sklearn.metrics import accuracy_score as accuracy\n",
        "import xgboost as xgb"
      ],
      "execution_count": 0,
      "outputs": []
    },
    {
      "cell_type": "code",
      "metadata": {
        "id": "7peKeJpIRiC_",
        "colab_type": "code",
        "colab": {}
      },
      "source": [
        "#Import train data set\n",
        "dataframe_training = pd.read_csv(\"train.csv\")\n",
        "y_train=dataframe_training['playtime_forever']\n",
        "train_categories=dataframe_training['categories']\n",
        "train_dummies_categories= train_categories.str.get_dummies(\",\")\n",
        "train_genres=dataframe_training['genres']\n",
        "train_dummies_genres= train_genres.str.get_dummies(\",\")\n",
        "dataframe_training=dataframe_training.filter(items=['price','date_difference','total_positive_reviews','total_negative_reviews'])\n",
        "x_train=pd.concat([dataframe_training,train_dummies_genres,train_dummies_categories], axis=1, sort=False)"
      ],
      "execution_count": 0,
      "outputs": []
    },
    {
      "cell_type": "code",
      "metadata": {
        "id": "2wtbnwdogmw_",
        "colab_type": "code",
        "colab": {}
      },
      "source": [
        "#perform backward elimination\n",
        "import statsmodels.api as sm\n",
        "X_1 = sm.add_constant(x_train)\n",
        "model_1= sm.OLS(y_train,X_1).fit()\n",
        "model_1.pvalues\n"
      ],
      "execution_count": 0,
      "outputs": []
    },
    {
      "cell_type": "code",
      "metadata": {
        "id": "PU2M4cVCigRm",
        "colab_type": "code",
        "outputId": "941f0ea7-7106-41f1-9b6a-b6f03fff3069",
        "colab": {
          "base_uri": "https://localhost:8080/",
          "height": 87
        }
      },
      "source": [
        "cols = list(x_train.columns)\n",
        "pmax = 1\n",
        "while (len(cols)>0):\n",
        "    p= []\n",
        "    X_1 = x_train[cols]\n",
        "    X_1 = sm.add_constant(X_1)\n",
        "    model = sm.OLS(y_train,X_1).fit()\n",
        "    p = pd.Series(model.pvalues.values[1:],index = cols)      \n",
        "    pmax = max(p)\n",
        "    feature_with_p_max = p.idxmax()\n",
        "    if(pmax>0.05):\n",
        "        cols.remove(feature_with_p_max)\n",
        "    else:\n",
        "        break\n",
        "selected_features_BE = cols\n",
        "print(selected_features_BE)"
      ],
      "execution_count": 0,
      "outputs": [
        {
          "output_type": "stream",
          "text": [
            "/usr/local/lib/python3.6/dist-packages/numpy/core/fromnumeric.py:2495: FutureWarning: Method .ptp is deprecated and will be removed in a future version. Use numpy.ptp instead.\n",
            "  return ptp(axis=axis, out=out, **kwargs)\n"
          ],
          "name": "stderr"
        },
        {
          "output_type": "stream",
          "text": [
            "['date_difference', 'total_positive_reviews', 'total_negative_reviews', 'Co-op', 'Includes level editor', 'Local Multi-Player', 'Steam Workshop', 'Valve Anti-Cheat enabled']\n"
          ],
          "name": "stdout"
        }
      ]
    },
    {
      "cell_type": "code",
      "metadata": {
        "id": "HP4Z7UVPuE4d",
        "colab_type": "code",
        "colab": {}
      },
      "source": [
        "#Variable Selection\n",
        "x_train=x_train.filter(items=['date_difference', 'total_positive_reviews', 'total_negative_reviews', 'Adventure', 'RPG', 'Full controller support', 'Steam Workshop', 'price'])\n",
        "x_train['reviews']=x_train['total_positive_reviews']+x_train['total_negative_reviews']\n",
        "x_train=x_train.filter(items=['date_difference', 'reviews', 'Adventure', 'RPG', 'Full controller support', 'Steam Workshop', 'price'])"
      ],
      "execution_count": 0,
      "outputs": []
    },
    {
      "cell_type": "code",
      "metadata": {
        "id": "_WvqeCDPVuvu",
        "colab_type": "code",
        "colab": {}
      },
      "source": [
        "#Split data set into training data and testing data\n",
        "Xtrain, Xtest, Ytrain, Ytest = split(x_train,y_train, test_size=0.25, random_state=7)"
      ],
      "execution_count": 0,
      "outputs": []
    },
    {
      "cell_type": "code",
      "metadata": {
        "id": "cwgvJIhpWDZd",
        "colab_type": "code",
        "colab": {}
      },
      "source": [
        "#Import Bagging Regressor\n",
        "from sklearn.ensemble import *\n",
        "AllRegressorModel = [BaggingRegressor]"
      ],
      "execution_count": 0,
      "outputs": []
    },
    {
      "cell_type": "code",
      "metadata": {
        "id": "EGp4cjzSWdg9",
        "colab_type": "code",
        "colab": {}
      },
      "source": [
        "def Model_Selection_By_Cross_Valid():\n",
        "        ThisRound_SelectedModel = None\n",
        "        ThisRound_SelectedModel_Name = None\n",
        "        ThisRound_SelectedModel_Score = None\n",
        "        for temp_select_model_name in AllRegressorModel:\n",
        "            kfold = model_selection.KFold(n_splits=10, random_state=7)\n",
        "            print (kfold)\n",
        "            temp_model= temp_select_model_name()\n",
        "            print(temp_model)\n",
        "            temp_model.fit(Xtrain, Ytrain)\n",
        "            results = model_selection.cross_val_score(temp_model, Xtrain, Ytrain, cv=kfold, scoring='neg_mean_squared_error')\n",
        "        print(temp_select_model_name,results.mean())\n",
        "        if (ThisRound_SelectedModel == None) or (abs(results.mean()) < ThisRound_SelectedModel_Score):\n",
        "            ThisRound_SelectedModel = temp_model\n",
        "            ThisRound_SelectedModel_Name = temp_select_model_name\n",
        "            ThisRound_SelectedModel_Score = abs(results.mean())\n",
        "        print (\"This round Model Name: \", temp_model,\"MSE Score: \",abs(results.mean()))\n",
        "        print (\"This Model Feature Importance\",temp_model.feature_importances_)\n",
        "        print(\"This Model Do No Have Feature Importance......\")\n",
        "        print (\"<----------------------------------->\")\n",
        "        print (\"Selected Model Name:\", ThisRound_SelectedModel, \"MSE Score:\",ThisRound_SelectedModel_Score)\n",
        "        return {\"ModelName\": ThisRound_SelectedModel_Name,\"Model\": ThisRound_SelectedModel}"
      ],
      "execution_count": 0,
      "outputs": []
    },
    {
      "cell_type": "code",
      "metadata": {
        "id": "B96wSJD2ZK6Z",
        "colab_type": "code",
        "outputId": "06f543ba-e7bf-45c6-cab4-18326425673f",
        "colab": {
          "base_uri": "https://localhost:8080/",
          "height": 447
        }
      },
      "source": [
        "SelectedModel = Model_Selection_By_Cross_Valid()\n"
      ],
      "execution_count": 0,
      "outputs": [
        {
          "output_type": "stream",
          "text": [
            "KFold(n_splits=10, random_state=7, shuffle=False)\n",
            "BaggingRegressor(base_estimator=None, bootstrap=True, bootstrap_features=False,\n",
            "                 max_features=1.0, max_samples=1.0, n_estimators=10,\n",
            "                 n_jobs=None, oob_score=False, random_state=None, verbose=0,\n",
            "                 warm_start=False)\n",
            "<class 'sklearn.ensemble.bagging.BaggingRegressor'> -104.2676696174511\n",
            "This round Model Name:  BaggingRegressor(base_estimator=None, bootstrap=True, bootstrap_features=False,\n",
            "                 max_features=1.0, max_samples=1.0, n_estimators=10,\n",
            "                 n_jobs=None, oob_score=False, random_state=None, verbose=0,\n",
            "                 warm_start=False) MSE Score:  104.2676696174511\n"
          ],
          "name": "stdout"
        },
        {
          "output_type": "error",
          "ename": "AttributeError",
          "evalue": "ignored",
          "traceback": [
            "\u001b[0;31m---------------------------------------------------------------------------\u001b[0m",
            "\u001b[0;31mAttributeError\u001b[0m                            Traceback (most recent call last)",
            "\u001b[0;32m<ipython-input-949-3a139bccdb2f>\u001b[0m in \u001b[0;36m<module>\u001b[0;34m()\u001b[0m\n\u001b[0;32m----> 1\u001b[0;31m \u001b[0mSelectedModel\u001b[0m \u001b[0;34m=\u001b[0m \u001b[0mModel_Selection_By_Cross_Valid\u001b[0m\u001b[0;34m(\u001b[0m\u001b[0;34m)\u001b[0m\u001b[0;34m\u001b[0m\u001b[0;34m\u001b[0m\u001b[0m\n\u001b[0m",
            "\u001b[0;32m<ipython-input-923-041a1435e3af>\u001b[0m in \u001b[0;36mModel_Selection_By_Cross_Valid\u001b[0;34m()\u001b[0m\n\u001b[1;32m     16\u001b[0m             \u001b[0mThisRound_SelectedModel_Score\u001b[0m \u001b[0;34m=\u001b[0m \u001b[0mabs\u001b[0m\u001b[0;34m(\u001b[0m\u001b[0mresults\u001b[0m\u001b[0;34m.\u001b[0m\u001b[0mmean\u001b[0m\u001b[0;34m(\u001b[0m\u001b[0;34m)\u001b[0m\u001b[0;34m)\u001b[0m\u001b[0;34m\u001b[0m\u001b[0;34m\u001b[0m\u001b[0m\n\u001b[1;32m     17\u001b[0m         \u001b[0mprint\u001b[0m \u001b[0;34m(\u001b[0m\u001b[0;34m\"This round Model Name: \"\u001b[0m\u001b[0;34m,\u001b[0m \u001b[0mtemp_model\u001b[0m\u001b[0;34m,\u001b[0m\u001b[0;34m\"MSE Score: \"\u001b[0m\u001b[0;34m,\u001b[0m\u001b[0mabs\u001b[0m\u001b[0;34m(\u001b[0m\u001b[0mresults\u001b[0m\u001b[0;34m.\u001b[0m\u001b[0mmean\u001b[0m\u001b[0;34m(\u001b[0m\u001b[0;34m)\u001b[0m\u001b[0;34m)\u001b[0m\u001b[0;34m)\u001b[0m\u001b[0;34m\u001b[0m\u001b[0;34m\u001b[0m\u001b[0m\n\u001b[0;32m---> 18\u001b[0;31m         \u001b[0mprint\u001b[0m \u001b[0;34m(\u001b[0m\u001b[0;34m\"This Model Feature Importance\"\u001b[0m\u001b[0;34m,\u001b[0m\u001b[0mtemp_model\u001b[0m\u001b[0;34m.\u001b[0m\u001b[0mfeature_importances_\u001b[0m\u001b[0;34m)\u001b[0m\u001b[0;34m\u001b[0m\u001b[0;34m\u001b[0m\u001b[0m\n\u001b[0m\u001b[1;32m     19\u001b[0m         \u001b[0mprint\u001b[0m\u001b[0;34m(\u001b[0m\u001b[0;34m\"This Model Do No Have Feature Importance......\"\u001b[0m\u001b[0;34m)\u001b[0m\u001b[0;34m\u001b[0m\u001b[0;34m\u001b[0m\u001b[0m\n\u001b[1;32m     20\u001b[0m         \u001b[0mprint\u001b[0m \u001b[0;34m(\u001b[0m\u001b[0;34m\"<----------------------------------->\"\u001b[0m\u001b[0;34m)\u001b[0m\u001b[0;34m\u001b[0m\u001b[0;34m\u001b[0m\u001b[0m\n",
            "\u001b[0;31mAttributeError\u001b[0m: 'BaggingRegressor' object has no attribute 'feature_importances_'"
          ]
        }
      ]
    },
    {
      "cell_type": "code",
      "metadata": {
        "id": "GU8AXlBE__lk",
        "colab_type": "code",
        "colab": {}
      },
      "source": [
        "#Build model\n",
        "predictmodel_new=BaggingRegressor(base_estimator=None, bootstrap=True, bootstrap_features=False,\n",
        "                 max_features=1.0, max_samples=1.0, n_estimators=10,\n",
        "                 n_jobs=None, oob_score=False, random_state=7, verbose=0,\n",
        "                 warm_start=False) "
      ],
      "execution_count": 0,
      "outputs": []
    },
    {
      "cell_type": "code",
      "metadata": {
        "id": "0RJl1gNqv7uI",
        "colab_type": "code",
        "colab": {}
      },
      "source": [
        "#Check model performance"
      ],
      "execution_count": 0,
      "outputs": []
    },
    {
      "cell_type": "code",
      "metadata": {
        "id": "gAgMbhRkAU5e",
        "colab_type": "code",
        "outputId": "31ffdae3-e1be-4b0e-a4a7-03943978f094",
        "colab": {
          "base_uri": "https://localhost:8080/",
          "height": 84
        }
      },
      "source": [
        "predictmodel_new.fit(x_train,y_train)"
      ],
      "execution_count": 0,
      "outputs": [
        {
          "output_type": "execute_result",
          "data": {
            "text/plain": [
              "BaggingRegressor(base_estimator=None, bootstrap=True, bootstrap_features=False,\n",
              "                 max_features=1.0, max_samples=1.0, n_estimators=10,\n",
              "                 n_jobs=None, oob_score=False, random_state=7, verbose=0,\n",
              "                 warm_start=False)"
            ]
          },
          "metadata": {
            "tags": []
          },
          "execution_count": 959
        }
      ]
    },
    {
      "cell_type": "code",
      "metadata": {
        "id": "t9loVqQj3_0X",
        "colab_type": "code",
        "colab": {}
      },
      "source": [
        "y_train_predict=predictmodel_new.predict(x_train)"
      ],
      "execution_count": 0,
      "outputs": []
    },
    {
      "cell_type": "code",
      "metadata": {
        "id": "uBUwh_F54Put",
        "colab_type": "code",
        "outputId": "8ed2ad5e-be44-4d12-afe6-7adc2c53b7a9",
        "colab": {
          "base_uri": "https://localhost:8080/",
          "height": 34
        }
      },
      "source": [
        "from sklearn.metrics import r2_score\n",
        "r2_score(y_train, y_train_predict)"
      ],
      "execution_count": 0,
      "outputs": [
        {
          "output_type": "execute_result",
          "data": {
            "text/plain": [
              "0.8655966995525417"
            ]
          },
          "metadata": {
            "tags": []
          },
          "execution_count": 974
        }
      ]
    },
    {
      "cell_type": "code",
      "metadata": {
        "id": "NxbhujM35O60",
        "colab_type": "code",
        "outputId": "3fbb9131-7ae0-4cf8-c52f-d23672d91161",
        "colab": {
          "base_uri": "https://localhost:8080/",
          "height": 34
        }
      },
      "source": [
        "from sklearn.metrics import mean_absolute_error\n",
        "mean_absolute_error(y_train, y_train_predict)"
      ],
      "execution_count": 0,
      "outputs": [
        {
          "output_type": "execute_result",
          "data": {
            "text/plain": [
              "1.5134827264044817"
            ]
          },
          "metadata": {
            "tags": []
          },
          "execution_count": 975
        }
      ]
    },
    {
      "cell_type": "code",
      "metadata": {
        "id": "I9ECl6Sx5o1K",
        "colab_type": "code",
        "outputId": "5fa38e03-979e-4b2c-8592-3a5cf0c4f797",
        "colab": {
          "base_uri": "https://localhost:8080/",
          "height": 34
        }
      },
      "source": [
        "from sklearn.metrics import mean_squared_error\n",
        "mean_squared_error(y_train, y_train_predict)"
      ],
      "execution_count": 0,
      "outputs": [
        {
          "output_type": "execute_result",
          "data": {
            "text/plain": [
              "16.851719700558817"
            ]
          },
          "metadata": {
            "tags": []
          },
          "execution_count": 976
        }
      ]
    },
    {
      "cell_type": "code",
      "metadata": {
        "id": "qs4r2G-s-vQZ",
        "colab_type": "code",
        "colab": {}
      },
      "source": [
        "#Import testing data set\n",
        "dataframe_testing = pd.read_csv(\"test.csv\")\n",
        "test_categories=dataframe_testing['categories']\n",
        "test_dummies_categories= test_categories.str.get_dummies(\",\")\n",
        "test_genres=dataframe_testing['genres']\n",
        "test_dummies_genres= test_genres.str.get_dummies(\",\")\n",
        "dataframe_testing=dataframe_testing.filter(items=['price','date_difference','total_positive_reviews','total_negative_reviews'])\n",
        "x_test=pd.concat([dataframe_testing,test_dummies_genres,test_dummies_categories], axis=1, sort=False)"
      ],
      "execution_count": 0,
      "outputs": []
    },
    {
      "cell_type": "code",
      "metadata": {
        "id": "xkSTdQ06ear3",
        "colab_type": "code",
        "colab": {}
      },
      "source": [
        "#Elimination variables in testing data set\n",
        "x_test=x_test.filter(items=['date_difference', 'total_positive_reviews', 'total_negative_reviews', 'Adventure', 'RPG', 'Full controller support', 'Steam Workshop', 'price'])\n",
        "x_test['reviews']=x_test['total_positive_reviews']+x_test['total_negative_reviews']\n",
        "x_test=x_test.filter(items=['date_difference', 'reviews', 'Adventure', 'RPG', 'Full controller support', 'Steam Workshop', 'price'])"
      ],
      "execution_count": 0,
      "outputs": []
    },
    {
      "cell_type": "code",
      "metadata": {
        "id": "rvDDwt_5dxpY",
        "colab_type": "code",
        "colab": {}
      },
      "source": [
        "x_test=x_test.filter(items=['date_difference','total_positive_reviews', 'total_negative_reviews','Adventure','RPG','Co-op ','Full controller support','Includes level editor ','Steam Workshop','price'])\n"
      ],
      "execution_count": 0,
      "outputs": []
    },
    {
      "cell_type": "code",
      "metadata": {
        "id": "bodaNmy9wMOp",
        "colab_type": "code",
        "colab": {}
      },
      "source": [
        "#Predict the result"
      ],
      "execution_count": 0,
      "outputs": []
    },
    {
      "cell_type": "code",
      "metadata": {
        "id": "RV8-zTnK_nfg",
        "colab_type": "code",
        "colab": {}
      },
      "source": [
        "Predicted = predictmodel_new.predict(x_test)"
      ],
      "execution_count": 0,
      "outputs": []
    },
    {
      "cell_type": "code",
      "metadata": {
        "id": "U5RkTUMov7PJ",
        "colab_type": "code",
        "colab": {}
      },
      "source": [
        "#Export data in csv\n",
        "Predicted=pd.DataFrame(Predicted)\n",
        "from google.colab import files\n",
        "Predicted.to_csv('Submission_88675.csv') \n",
        "files.download('Submission_88675.csv')"
      ],
      "execution_count": 0,
      "outputs": []
    }
  ]
}